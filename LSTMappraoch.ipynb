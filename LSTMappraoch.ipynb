{
 "cells": [
  {
   "cell_type": "markdown",
   "metadata": {},
   "source": [
    "## Importing the Libraries"
   ]
  },
  {
   "cell_type": "markdown",
   "metadata": {},
   "source": [
    "The first step is to import the libraries required to preprocess Mosaic24 stock data and the other libraries required for constructing and visualizing the LSTM model outputs. We’ll be using the Keras library from the TensorFlow framework for this. All modules are imported from the Keras library."
   ]
  },
  {
   "cell_type": "code",
   "execution_count": 12,
   "metadata": {},
   "outputs": [],
   "source": [
    "#Importing the Libraries\n",
    "import pandas as pd\n",
    "import numpy as np\n",
    "%matplotlib inline\n",
    "import matplotlib.pyplot as plt\n",
    "from sklearn.preprocessing import MinMaxScaler\n",
    "from keras.layers import LSTM, Dense, Dropout\n",
    "from sklearn.model_selection import TimeSeriesSplit\n",
    "from sklearn.metrics import mean_squared_error, r2_score\n",
    "import matplotlib.dates as mandates\n",
    "from sklearn.preprocessing import MinMaxScaler\n",
    "from sklearn import linear_model\n",
    "from keras.models import Sequential\n",
    "from keras.layers import Dense\n",
    "import keras.backend as K\n",
    "from keras.callbacks import EarlyStopping\n",
    "from keras.optimizers import Adam\n",
    "from keras.models import load_model\n",
    "from keras.layers import LSTM\n",
    "from keras.utils import plot_model"
   ]
  },
  {
   "cell_type": "markdown",
   "metadata": {},
   "source": [
    "## Getting to Visualising the Stock Market Prediction Data"
   ]
  },
  {
   "cell_type": "markdown",
   "metadata": {},
   "source": [
    "Using the Pandas Data Reader library, we will upload the stock data from the local system as a Comma Separated Value (.csv) file and save it to a pandas DataFrame. Finally, we will examine the data."
   ]
  },
  {
   "cell_type": "code",
   "execution_count": 21,
   "metadata": {},
   "outputs": [
    {
     "name": "stderr",
     "output_type": "stream",
     "text": [
      "C:\\Users\\alaza\\AppData\\Local\\Temp\\ipykernel_14392\\2734896154.py:2: FutureWarning: The argument 'infer_datetime_format' is deprecated and will be removed in a future version. A strict version of it is now the default, see https://pandas.pydata.org/pdeps/0004-consistent-to-datetime-parsing.html. You can safely remove this argument.\n",
      "  df = pd.read_csv(\"data/train.csv\",index_col=\"Date\",parse_dates=True,infer_datetime_format=True)\n"
     ]
    },
    {
     "data": {
      "text/html": [
       "<div>\n",
       "<style scoped>\n",
       "    .dataframe tbody tr th:only-of-type {\n",
       "        vertical-align: middle;\n",
       "    }\n",
       "\n",
       "    .dataframe tbody tr th {\n",
       "        vertical-align: top;\n",
       "    }\n",
       "\n",
       "    .dataframe thead th {\n",
       "        text-align: right;\n",
       "    }\n",
       "</style>\n",
       "<table border=\"1\" class=\"dataframe\">\n",
       "  <thead>\n",
       "    <tr style=\"text-align: right;\">\n",
       "      <th></th>\n",
       "      <th>Id</th>\n",
       "      <th>Open</th>\n",
       "      <th>High</th>\n",
       "      <th>Low</th>\n",
       "      <th>Close</th>\n",
       "      <th>Adj Close</th>\n",
       "      <th>Volume</th>\n",
       "      <th>Company</th>\n",
       "    </tr>\n",
       "    <tr>\n",
       "      <th>Date</th>\n",
       "      <th></th>\n",
       "      <th></th>\n",
       "      <th></th>\n",
       "      <th></th>\n",
       "      <th></th>\n",
       "      <th></th>\n",
       "      <th></th>\n",
       "      <th></th>\n",
       "    </tr>\n",
       "  </thead>\n",
       "  <tbody>\n",
       "    <tr>\n",
       "      <th>2033-03-01</th>\n",
       "      <td>0</td>\n",
       "      <td>159.271109</td>\n",
       "      <td>167.221488</td>\n",
       "      <td>157.380478</td>\n",
       "      <td>161.915062</td>\n",
       "      <td>160.167043</td>\n",
       "      <td>40490589</td>\n",
       "      <td>Company_0</td>\n",
       "    </tr>\n",
       "    <tr>\n",
       "      <th>2033-03-01</th>\n",
       "      <td>1</td>\n",
       "      <td>114.571843</td>\n",
       "      <td>114.409664</td>\n",
       "      <td>112.921505</td>\n",
       "      <td>113.066659</td>\n",
       "      <td>87.844722</td>\n",
       "      <td>8592865</td>\n",
       "      <td>Company_1</td>\n",
       "    </tr>\n",
       "    <tr>\n",
       "      <th>2033-03-01</th>\n",
       "      <td>2</td>\n",
       "      <td>50.984499</td>\n",
       "      <td>51.262529</td>\n",
       "      <td>50.266272</td>\n",
       "      <td>50.094499</td>\n",
       "      <td>49.329834</td>\n",
       "      <td>25085661</td>\n",
       "      <td>Company_2</td>\n",
       "    </tr>\n",
       "    <tr>\n",
       "      <th>2033-03-01</th>\n",
       "      <td>3</td>\n",
       "      <td>98.585428</td>\n",
       "      <td>99.988079</td>\n",
       "      <td>97.867719</td>\n",
       "      <td>98.811966</td>\n",
       "      <td>91.784469</td>\n",
       "      <td>823271</td>\n",
       "      <td>Company_3</td>\n",
       "    </tr>\n",
       "    <tr>\n",
       "      <th>2033-03-01</th>\n",
       "      <td>4</td>\n",
       "      <td>8874.646107</td>\n",
       "      <td>8935.704765</td>\n",
       "      <td>8811.247764</td>\n",
       "      <td>8873.173069</td>\n",
       "      <td>8407.389386</td>\n",
       "      <td>609369</td>\n",
       "      <td>Company_4</td>\n",
       "    </tr>\n",
       "  </tbody>\n",
       "</table>\n",
       "</div>"
      ],
      "text/plain": [
       "            Id         Open         High          Low        Close  \\\n",
       "Date                                                                 \n",
       "2033-03-01   0   159.271109   167.221488   157.380478   161.915062   \n",
       "2033-03-01   1   114.571843   114.409664   112.921505   113.066659   \n",
       "2033-03-01   2    50.984499    51.262529    50.266272    50.094499   \n",
       "2033-03-01   3    98.585428    99.988079    97.867719    98.811966   \n",
       "2033-03-01   4  8874.646107  8935.704765  8811.247764  8873.173069   \n",
       "\n",
       "              Adj Close    Volume    Company  \n",
       "Date                                          \n",
       "2033-03-01   160.167043  40490589  Company_0  \n",
       "2033-03-01    87.844722   8592865  Company_1  \n",
       "2033-03-01    49.329834  25085661  Company_2  \n",
       "2033-03-01    91.784469    823271  Company_3  \n",
       "2033-03-01  8407.389386    609369  Company_4  "
      ]
     },
     "execution_count": 21,
     "metadata": {},
     "output_type": "execute_result"
    }
   ],
   "source": [
    "# Importing the data\n",
    "df = pd.read_csv(\"data/train.csv\",index_col=\"Date\",parse_dates=True,infer_datetime_format=True)\n",
    "df.head()"
   ]
  },
  {
   "cell_type": "markdown",
   "metadata": {},
   "source": [
    "## Checking for Null Values"
   ]
  },
  {
   "cell_type": "markdown",
   "metadata": {},
   "source": [
    "We’ll check for null values in the data frame to ensure that there are none. The existence of null values in the dataset causes issues during training since they function as outliers"
   ]
  },
  {
   "cell_type": "code",
   "execution_count": 22,
   "metadata": {},
   "outputs": [
    {
     "data": {
      "text/plain": [
       "Id           0\n",
       "Open         0\n",
       "High         0\n",
       "Low          0\n",
       "Close        0\n",
       "Adj Close    0\n",
       "Volume       0\n",
       "Company      0\n",
       "dtype: int64"
      ]
     },
     "execution_count": 22,
     "metadata": {},
     "output_type": "execute_result"
    }
   ],
   "source": [
    "# checking for null values\n",
    "df.isna().sum()"
   ]
  },
  {
   "cell_type": "code",
   "execution_count": 23,
   "metadata": {},
   "outputs": [
    {
     "data": {
      "text/plain": [
       "0"
      ]
     },
     "execution_count": 23,
     "metadata": {},
     "output_type": "execute_result"
    }
   ],
   "source": [
    "#  check for duplicated data\n",
    "df.duplicated().sum()"
   ]
  },
  {
   "cell_type": "markdown",
   "metadata": {},
   "source": [
    "##  Plotting the True Close Value"
   ]
  },
  {
   "cell_type": "markdown",
   "metadata": {},
   "source": [
    "The Close Value is the final output value that will be forecasted using the Machine Learning model. This figure indicates the stock’s closing price on that particular day of stock market trading."
   ]
  },
  {
   "cell_type": "code",
   "execution_count": 24,
   "metadata": {},
   "outputs": [
    {
     "data": {
      "image/png": "[encoded data removed]",
      "text/plain": [
       "<Figure size 640x480 with 1 Axes>"
      ]
     },
     "metadata": {},
     "output_type": "display_data"
    }
   ],
   "source": [
    "df[\"Close\"].plot(kind=\"line\");"
   ]
  },
  {
   "cell_type": "markdown",
   "metadata": {},
   "source": [
    "## Setting the Target Variable and Selecting the Features"
   ]
  },
  {
   "cell_type": "markdown",
   "metadata": {},
   "source": [
    "The output column is then assigned to the target variable.\n",
    "Furthermore, we pick the features that serve as the independent variable to the target variable (dependent variable)."
   ]
  }
 ],
 "metadata": {
  "kernelspec": {
   "display_name": "Python 3",
   "language": "python",
   "name": "python3"
  },
  "language_info": {
   "codemirror_mode": {
    "name": "ipython",
    "version": 3
   },
   "file_extension": ".py",
   "mimetype": "text/x-python",
   "name": "python",
   "nbconvert_exporter": "python",
   "pygments_lexer": "ipython3",
   "version": "3.10.6"
  }
 },
 "nbformat": 4,
 "nbformat_minor": 2
}
