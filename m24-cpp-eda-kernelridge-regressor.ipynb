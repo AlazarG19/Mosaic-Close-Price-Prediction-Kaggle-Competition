{
 "cells": [
  {
   "cell_type": "markdown",
   "id": "7125a53c",
   "metadata": {
    "papermill": {
     "duration": 0.010014,
     "end_time": "2024-03-11T13:51:26.966071",
     "exception": false,
     "start_time": "2024-03-11T13:51:26.956057",
     "status": "completed"
    },
    "tags": []
   },
   "source": [
    "# <center> <a id=\"2\"> 📚 Import Libraries"
   ]
  },
  {
   "cell_type": "code",
   "execution_count": 1,
   "id": "6832bdc6",
   "metadata": {
    "execution": {
     "iopub.execute_input": "2024-03-11T13:51:26.986297Z",
     "iopub.status.busy": "2024-03-11T13:51:26.985477Z",
     "iopub.status.idle": "2024-03-11T13:51:29.940379Z",
     "shell.execute_reply": "2024-03-11T13:51:29.939260Z"
    },
    "papermill": {
     "duration": 2.968641,
     "end_time": "2024-03-11T13:51:29.943543",
     "exception": false,
     "start_time": "2024-03-11T13:51:26.974902",
     "status": "completed"
    },
    "tags": []
   },
   "outputs": [],
   "source": [
    "import numpy as np\n",
    "import pandas as pd\n",
    "import seaborn as sns\n",
    "from sklearn.model_selection import train_test_split\n",
    "from sklearn.neural_network import MLPRegressor\n",
    "import matplotlib.pyplot as plt"
   ]
  },
  {
   "cell_type": "markdown",
   "id": "751bbcf7",
   "metadata": {
    "papermill": {
     "duration": 0.008476,
     "end_time": "2024-03-11T13:51:29.961105",
     "exception": false,
     "start_time": "2024-03-11T13:51:29.952629",
     "status": "completed"
    },
    "tags": []
   },
   "source": [
    "# <center><a id=\"3\"> 📖 Read Dataset"
   ]
  },
  {
   "cell_type": "code",
   "execution_count": 2,
   "id": "f6554f98",
   "metadata": {
    "execution": {
     "iopub.execute_input": "2024-03-11T13:51:29.980876Z",
     "iopub.status.busy": "2024-03-11T13:51:29.980302Z",
     "iopub.status.idle": "2024-03-11T13:51:30.041784Z",
     "shell.execute_reply": "2024-03-11T13:51:30.040686Z"
    },
    "papermill": {
     "duration": 0.075112,
     "end_time": "2024-03-11T13:51:30.044915",
     "exception": false,
     "start_time": "2024-03-11T13:51:29.969803",
     "status": "completed"
    },
    "tags": []
   },
   "outputs": [],
   "source": [
    "train_df=pd.read_csv('data/train.csv')\n",
    "test_df=pd.read_csv('data/test.csv')"
   ]
  },
  {
   "cell_type": "code",
   "execution_count": 3,
   "id": "9f13a38f",
   "metadata": {
    "execution": {
     "iopub.execute_input": "2024-03-11T13:51:30.067668Z",
     "iopub.status.busy": "2024-03-11T13:51:30.067233Z",
     "iopub.status.idle": "2024-03-11T13:51:30.076218Z",
     "shell.execute_reply": "2024-03-11T13:51:30.075039Z"
    },
    "papermill": {
     "duration": 0.025135,
     "end_time": "2024-03-11T13:51:30.079325",
     "exception": false,
     "start_time": "2024-03-11T13:51:30.054190",
     "status": "completed"
    },
    "tags": []
   },
   "outputs": [
    {
     "data": {
      "text/plain": [
       "(Index(['Id', 'Date', 'Open', 'High', 'Low', 'Close', 'Adj Close', 'Volume',\n",
       "        'Company'],\n",
       "       dtype='object'),\n",
       " Index(['Id', 'Date', 'Company'], dtype='object'),\n",
       " 576)"
      ]
     },
     "execution_count": 3,
     "metadata": {},
     "output_type": "execute_result"
    }
   ],
   "source": [
    "train_df.columns,test_df.columns,len(test_df)"
   ]
  },
  {
   "cell_type": "markdown",
   "id": "a8914307",
   "metadata": {
    "papermill": {
     "duration": 0.00877,
     "end_time": "2024-03-11T13:51:30.097387",
     "exception": false,
     "start_time": "2024-03-11T13:51:30.088617",
     "status": "completed"
    },
    "tags": []
   },
   "source": [
    "# <center> <a id=\"4\"> Missing Values"
   ]
  },
  {
   "cell_type": "code",
   "execution_count": 4,
   "id": "e692f10c",
   "metadata": {
    "execution": {
     "iopub.execute_input": "2024-03-11T13:51:30.118051Z",
     "iopub.status.busy": "2024-03-11T13:51:30.116873Z",
     "iopub.status.idle": "2024-03-11T13:51:30.132600Z",
     "shell.execute_reply": "2024-03-11T13:51:30.131677Z"
    },
    "papermill": {
     "duration": 0.028437,
     "end_time": "2024-03-11T13:51:30.134925",
     "exception": false,
     "start_time": "2024-03-11T13:51:30.106488",
     "status": "completed"
    },
    "tags": []
   },
   "outputs": [
    {
     "data": {
      "text/plain": [
       "Id           0\n",
       "Date         0\n",
       "Open         0\n",
       "High         0\n",
       "Low          0\n",
       "Close        0\n",
       "Adj Close    0\n",
       "Volume       0\n",
       "Company      0\n",
       "dtype: int64"
      ]
     },
     "execution_count": 4,
     "metadata": {},
     "output_type": "execute_result"
    }
   ],
   "source": [
    "train_df.isnull().astype('int').sum()"
   ]
  }
 ],
 "metadata": {
  "kaggle": {
   "accelerator": "none",
   "dataSources": [
    {
     "databundleVersionId": 7844090,
     "sourceId": 71711,
     "sourceType": "competition"
    }
   ],
   "dockerImageVersionId": 30664,
   "isGpuEnabled": false,
   "isInternetEnabled": true,
   "language": "python",
   "sourceType": "notebook"
  },
  "kernelspec": {
   "display_name": "Python 3",
   "language": "python",
   "name": "python3"
  },
  "language_info": {
   "codemirror_mode": {
    "name": "ipython",
    "version": 3
   },
   "file_extension": ".py",
   "mimetype": "text/x-python",
   "name": "python",
   "nbconvert_exporter": "python",
   "pygments_lexer": "ipython3",
   "version": "3.10.6"
  },
  "papermill": {
   "default_parameters": {},
   "duration": 27.834807,
   "end_time": "2024-03-11T13:51:51.565226",
   "environment_variables": {},
   "exception": null,
   "input_path": "__notebook__.ipynb",
   "output_path": "__notebook__.ipynb",
   "parameters": {},
   "start_time": "2024-03-11T13:51:23.730419",
   "version": "2.4.0"
  }
 },
 "nbformat": 4,
 "nbformat_minor": 5
}
